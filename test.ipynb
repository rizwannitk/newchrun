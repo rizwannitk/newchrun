{
  "nbformat": 4,
  "nbformat_minor": 0,
  "metadata": {
    "kernelspec": {
      "display_name": "Python 3",
      "language": "python",
      "name": "python3"
    },
    "language_info": {
      "codemirror_mode": {
        "name": "ipython",
        "version": 3
      },
      "file_extension": ".py",
      "mimetype": "text/x-python",
      "name": "python",
      "nbconvert_exporter": "python",
      "pygments_lexer": "ipython3",
      "version": "3.7.7"
    },
    "colab": {
      "name": "test.ipynb",
      "provenance": [],
      "collapsed_sections": [],
      "include_colab_link": true
    }
  },
  "cells": [
    {
      "cell_type": "markdown",
      "metadata": {
        "id": "view-in-github",
        "colab_type": "text"
      },
      "source": [
        "<a href=\"https://colab.research.google.com/github/rizwannitk/newchrun/blob/main/test.ipynb\" target=\"_parent\"><img src=\"https://colab.research.google.com/assets/colab-badge.svg\" alt=\"Open In Colab\"/></a>"
      ]
    },
    {
      "cell_type": "code",
      "metadata": {
        "id": "JE3Q_lfcq2ti"
      },
      "source": [
        "print(\"Chrun\")"
      ],
      "execution_count": null,
      "outputs": []
    },
    {
      "cell_type": "code",
      "metadata": {
        "id": "WrNm8U-QvykP"
      },
      "source": [
        "from google.colab import drive\n",
        "drive.mount('/content/drive')"
      ],
      "execution_count": null,
      "outputs": []
    },
    {
      "cell_type": "code",
      "metadata": {
        "id": "HJNR6oWqDsU_"
      },
      "source": [
        "import seaborn as sns"
      ],
      "execution_count": null,
      "outputs": []
    },
    {
      "cell_type": "code",
      "metadata": {
        "id": "cyUeZoGG6OVq"
      },
      "source": [
        "print(sns.get_dataset_names())"
      ],
      "execution_count": null,
      "outputs": []
    },
    {
      "cell_type": "code",
      "metadata": {
        "id": "j9vJGhq_QPZm"
      },
      "source": [
        "df=sns.load_dataset('planets')"
      ],
      "execution_count": null,
      "outputs": []
    },
    {
      "cell_type": "code",
      "metadata": {
        "id": "GpHSxmpKHDPA"
      },
      "source": [
        "pip install dtale"
      ],
      "execution_count": null,
      "outputs": []
    },
    {
      "cell_type": "code",
      "metadata": {
        "id": "GtbY7n0JaP9a"
      },
      "source": [
        ""
      ],
      "execution_count": null,
      "outputs": []
    },
    {
      "cell_type": "code",
      "metadata": {
        "id": "JGJIG_xMQibk"
      },
      "source": [
        "import dtale"
      ],
      "execution_count": null,
      "outputs": []
    },
    {
      "cell_type": "code",
      "metadata": {
        "id": "k6tkxqXURKgO"
      },
      "source": [
        "import dtale.app as dtale_app\n",
        "\n",
        "dtale_app.USE_COLAB = True\n"
      ],
      "execution_count": null,
      "outputs": []
    },
    {
      "cell_type": "code",
      "metadata": {
        "id": "j_Kv2iLeHYv2"
      },
      "source": [
        "dtale.show(df, ignore_duplicate=True)"
      ],
      "execution_count": null,
      "outputs": []
    },
    {
      "cell_type": "code",
      "metadata": {
        "id": "ktzFUPeLYuwb"
      },
      "source": [
        "pip install sweetviz"
      ],
      "execution_count": null,
      "outputs": []
    },
    {
      "cell_type": "code",
      "metadata": {
        "id": "fxmJD-aBY0x4"
      },
      "source": [
        "import sweetviz"
      ],
      "execution_count": null,
      "outputs": []
    },
    {
      "cell_type": "code",
      "metadata": {
        "id": "qH8dUyyZY2yp"
      },
      "source": [
        "my_report = sweetviz.analyze(df)"
      ],
      "execution_count": null,
      "outputs": []
    },
    {
      "cell_type": "code",
      "metadata": {
        "id": "h1zA8fkxZD8j"
      },
      "source": [
        "my_report.show_html('Report.html')"
      ],
      "execution_count": null,
      "outputs": []
    },
    {
      "cell_type": "code",
      "metadata": {
        "id": "DoVNlJuecEWL"
      },
      "source": [
        "!pip install pandas-profiling==2.7.1"
      ],
      "execution_count": null,
      "outputs": []
    },
    {
      "cell_type": "code",
      "metadata": {
        "id": "pyO1IR4Dd85h"
      },
      "source": [
        "import pandas_profiling\n",
        "import numpy as np\n",
        "import pandas as pd"
      ],
      "execution_count": null,
      "outputs": []
    },
    {
      "cell_type": "code",
      "metadata": {
        "id": "SVviARoabA07"
      },
      "source": [
        "from pandas_profiling import ProfileReport"
      ],
      "execution_count": null,
      "outputs": []
    },
    {
      "cell_type": "code",
      "metadata": {
        "id": "LlVnYKqpgPIw"
      },
      "source": [
        "type(df)"
      ],
      "execution_count": null,
      "outputs": []
    },
    {
      "cell_type": "code",
      "metadata": {
        "id": "wz28TrxggTdQ"
      },
      "source": [
        "profile =pandas_profiling.ProfileReport(df)"
      ],
      "execution_count": null,
      "outputs": []
    },
    {
      "cell_type": "code",
      "metadata": {
        "id": "vnJTRbRNqUXC"
      },
      "source": [
        "profile.to_widgets()"
      ],
      "execution_count": null,
      "outputs": []
    },
    {
      "cell_type": "code",
      "metadata": {
        "id": "J6XXWd_sao6V"
      },
      "source": [
        "pip install geonames"
      ],
      "execution_count": null,
      "outputs": []
    },
    {
      "cell_type": "code",
      "metadata": {
        "id": "lNMM_VCsbyqH"
      },
      "source": [
        "pip install tzwhere"
      ],
      "execution_count": null,
      "outputs": []
    },
    {
      "cell_type": "code",
      "metadata": {
        "id": "kARn5EIJbvBm"
      },
      "source": [
        "\n",
        "\n",
        "tzwhere = tzwhere.tzwhere()\n",
        "timezone_str = tzwhere.tzNameAt(37.3880961, -5.9823299) # Seville coordinates\n",
        "timezone_str\n",
        "#> Europe/Madrid\n",
        "\n"
      ],
      "execution_count": null,
      "outputs": []
    },
    {
      "cell_type": "code",
      "metadata": {
        "id": "bhw2bfnmPhDK",
        "outputId": "d79be566-b220-4d06-ad5f-117638612248",
        "colab": {
          "base_uri": "https://localhost:8080/",
          "height": 69
        }
      },
      "source": [
        "pip install openpyxl"
      ],
      "execution_count": 188,
      "outputs": [
        {
          "output_type": "stream",
          "text": [
            "Requirement already satisfied: openpyxl in /usr/local/lib/python3.6/dist-packages (2.5.9)\n",
            "Requirement already satisfied: jdcal in /usr/local/lib/python3.6/dist-packages (from openpyxl) (1.4.1)\n",
            "Requirement already satisfied: et-xmlfile in /usr/local/lib/python3.6/dist-packages (from openpyxl) (1.0.1)\n"
          ],
          "name": "stdout"
        }
      ]
    },
    {
      "cell_type": "code",
      "metadata": {
        "id": "Hpq40YRtglFd"
      },
      "source": [
        "pip install timezonefinder"
      ],
      "execution_count": null,
      "outputs": []
    },
    {
      "cell_type": "code",
      "metadata": {
        "id": "5puKlD-5gyCD"
      },
      "source": [
        "import numpy as np\n",
        "import pandas as pd\n",
        "import io\n",
        "import requests\n",
        "import pickle"
      ],
      "execution_count": 186,
      "outputs": []
    },
    {
      "cell_type": "code",
      "metadata": {
        "id": "Velqwe2fx81f"
      },
      "source": [
        "url=\"https://ourairports.com/data/airports.csv\""
      ],
      "execution_count": null,
      "outputs": []
    },
    {
      "cell_type": "code",
      "metadata": {
        "id": "BWDxQXFoyGVg"
      },
      "source": [
        "df=pd.read_csv(url)"
      ],
      "execution_count": null,
      "outputs": []
    },
    {
      "cell_type": "code",
      "metadata": {
        "id": "imhv91f-0uli"
      },
      "source": [
        "df.info()"
      ],
      "execution_count": null,
      "outputs": []
    },
    {
      "cell_type": "code",
      "metadata": {
        "id": "bT5cTSRsysjF"
      },
      "source": [
        "df.head()\n",
        "df['iata_code'].astype(str).map(len)\n",
        "is_valid =  df['iata_code'].astype(str).map(len)==3\n",
        "valid_airport=df[is_valid]"
      ],
      "execution_count": null,
      "outputs": []
    },
    {
      "cell_type": "code",
      "metadata": {
        "id": "_Lsnn8ql0dq1"
      },
      "source": [
        "valid_airport.info()"
      ],
      "execution_count": null,
      "outputs": []
    },
    {
      "cell_type": "code",
      "metadata": {
        "id": "j-7AbehI1BQS"
      },
      "source": [
        "valid_airport['iata_code'].value_counts()\n",
        "valid_airport.dtypes\n",
        "valid_airport_new=valid_airport[['iso_region','iso_region','iata_code','latitude_deg','longitude_deg']]"
      ],
      "execution_count": null,
      "outputs": []
    },
    {
      "cell_type": "code",
      "metadata": {
        "id": "fTRVQy-w3QDe"
      },
      "source": [
        "valid_airport_new=valid_airport_new.drop_duplicates()"
      ],
      "execution_count": null,
      "outputs": []
    },
    {
      "cell_type": "code",
      "metadata": {
        "id": "_9URw98V25GH"
      },
      "source": [
        "valid_airport_new['iata_code'].value_counts()\n",
        "\n",
        "valid_airport_new[valid_airport_new['iata_code']=='KMM']\n",
        "\n"
      ],
      "execution_count": null,
      "outputs": []
    },
    {
      "cell_type": "code",
      "metadata": {
        "id": "VvO6iE3k4lOO"
      },
      "source": [
        "valid_airport_noduplicate = valid_airport_new.drop_duplicates(subset=['iata_code'])"
      ],
      "execution_count": null,
      "outputs": []
    },
    {
      "cell_type": "code",
      "metadata": {
        "id": "Xxvyk5Ot6tU-"
      },
      "source": [
        ""
      ],
      "execution_count": null,
      "outputs": []
    },
    {
      "cell_type": "code",
      "metadata": {
        "id": "8TCQo2Y45kZO"
      },
      "source": [
        "valid_airport_noduplicate['iata_code'].value_counts()>1"
      ],
      "execution_count": null,
      "outputs": []
    },
    {
      "cell_type": "code",
      "metadata": {
        "id": "lVwU1zZc6t3Q"
      },
      "source": [
        "valid_airport_noduplicate.dtypes"
      ],
      "execution_count": null,
      "outputs": []
    },
    {
      "cell_type": "code",
      "metadata": {
        "id": "eTmPyhzI7g8T"
      },
      "source": [
        "valid_airport_noduplicate[\"timezone\"] = np.nan\n",
        "valid_airport_noduplicate[\"offsetseconds\"]=np.nan"
      ],
      "execution_count": null,
      "outputs": []
    },
    {
      "cell_type": "code",
      "metadata": {
        "id": "lCmDIdqqg7B7"
      },
      "source": [
        "array = np.array([(12.9141,74.8560), (49.2827,-123.1207)])"
      ],
      "execution_count": null,
      "outputs": []
    },
    {
      "cell_type": "code",
      "metadata": {
        "id": "tD7ooxVEhrXf"
      },
      "source": [
        "type(array)"
      ],
      "execution_count": null,
      "outputs": []
    },
    {
      "cell_type": "code",
      "metadata": {
        "id": "3bVurkIHh5Wj"
      },
      "source": [
        "df = pd.DataFrame(array,columns = ['LAT', 'LONG'])"
      ],
      "execution_count": null,
      "outputs": []
    },
    {
      "cell_type": "code",
      "metadata": {
        "id": "B7jQNTbAh73d"
      },
      "source": [
        "type(df)"
      ],
      "execution_count": null,
      "outputs": []
    },
    {
      "cell_type": "code",
      "metadata": {
        "id": "VbBomBQNi5rX"
      },
      "source": [
        "def foo(df1):\n",
        "    tf = timezonefinder.TimezoneFinder()\n",
        "    for index, row in df1.iterrows():\n",
        "                                     #print(row['latitude_deg'], row['longitude_deg'])\n",
        "                                     timezone_str = tf.certain_timezone_at(lat=row['latitude_deg'], lng=row['longitude_deg'])\n",
        "                                     if timezone_str is None:\n",
        "                                     #                        print (\"Could not determine the time zone\")\n",
        "                                                              df1.at[index,'timezone'] = np.nan\n",
        "                                     else:\n",
        "                                          df1.at[index,'timezone'] = timezone_str\n",
        "                                          try :\n",
        "                                                timezone = pytz.timezone(timezone_str)\n",
        "                                                dt = datetime.datetime.utcnow()\n",
        "                                                df1.at[index,'offsetseconds'] =timezone.utcoffset(dt).seconds\n",
        "                                          except :\n",
        "                                                  df1.at[index,'offsetseconds'] = np.nan\n",
        "                                          \n",
        "                                         # Display the current time in that time zone\n",
        "                                         #timezone = pytz.timezone(timezone_str)\n",
        "                                         #dt = datetime.datetime.utcnow()\n",
        "                                         #print (\"The time in %s is %s\" % (timezone_str, dt + timezone.utcoffset(dt)))\n",
        "    return(df1)"
      ],
      "execution_count": 191,
      "outputs": []
    },
    {
      "cell_type": "code",
      "metadata": {
        "id": "X-gfqd4Ei-W1",
        "outputId": "570fbf05-746b-4b4a-a92b-9caac4055e22",
        "colab": {
          "base_uri": "https://localhost:8080/",
          "height": 141
        }
      },
      "source": [
        "valid_airport_append=foo(valid_airport_noduplicate)"
      ],
      "execution_count": 192,
      "outputs": [
        {
          "output_type": "stream",
          "text": [
            "/usr/local/lib/python3.6/dist-packages/pandas/core/indexing.py:1765: SettingWithCopyWarning: \n",
            "A value is trying to be set on a copy of a slice from a DataFrame.\n",
            "Try using .loc[row_indexer,col_indexer] = value instead\n",
            "\n",
            "See the caveats in the documentation: https://pandas.pydata.org/pandas-docs/stable/user_guide/indexing.html#returning-a-view-versus-a-copy\n",
            "  isetter(loc, value)\n"
          ],
          "name": "stderr"
        }
      ]
    },
    {
      "cell_type": "code",
      "metadata": {
        "id": "PLV8DLsb7eDu",
        "outputId": "9372539b-e784-4b09-b9f1-26d95494454b",
        "colab": {
          "base_uri": "https://localhost:8080/",
          "height": 79
        }
      },
      "source": [
        "valid_airport_append[valid_airport_append['iata_code']=='DOH']"
      ],
      "execution_count": 193,
      "outputs": [
        {
          "output_type": "execute_result",
          "data": {
            "text/html": [
              "<div>\n",
              "<style scoped>\n",
              "    .dataframe tbody tr th:only-of-type {\n",
              "        vertical-align: middle;\n",
              "    }\n",
              "\n",
              "    .dataframe tbody tr th {\n",
              "        vertical-align: top;\n",
              "    }\n",
              "\n",
              "    .dataframe thead th {\n",
              "        text-align: right;\n",
              "    }\n",
              "</style>\n",
              "<table border=\"1\" class=\"dataframe\">\n",
              "  <thead>\n",
              "    <tr style=\"text-align: right;\">\n",
              "      <th></th>\n",
              "      <th>iso_region</th>\n",
              "      <th>iso_region</th>\n",
              "      <th>iata_code</th>\n",
              "      <th>latitude_deg</th>\n",
              "      <th>longitude_deg</th>\n",
              "      <th>timezone</th>\n",
              "      <th>offsetseconds</th>\n",
              "    </tr>\n",
              "  </thead>\n",
              "  <tbody>\n",
              "    <tr>\n",
              "      <th>39974</th>\n",
              "      <td>QA-DA</td>\n",
              "      <td>QA-DA</td>\n",
              "      <td>DOH</td>\n",
              "      <td>25.273056</td>\n",
              "      <td>51.608056</td>\n",
              "      <td>Asia/Qatar</td>\n",
              "      <td>10800.0</td>\n",
              "    </tr>\n",
              "  </tbody>\n",
              "</table>\n",
              "</div>"
            ],
            "text/plain": [
              "      iso_region iso_region iata_code  ...  longitude_deg    timezone offsetseconds\n",
              "39974      QA-DA      QA-DA       DOH  ...      51.608056  Asia/Qatar       10800.0\n",
              "\n",
              "[1 rows x 7 columns]"
            ]
          },
          "metadata": {
            "tags": []
          },
          "execution_count": 193
        }
      ]
    },
    {
      "cell_type": "code",
      "metadata": {
        "id": "h8a5UYRAM9U-"
      },
      "source": [
        "final_airport=valid_airport_append.dropna()"
      ],
      "execution_count": 194,
      "outputs": []
    },
    {
      "cell_type": "code",
      "metadata": {
        "id": "UH5nexMJMBhU"
      },
      "source": [
        "valid_airport_append.isnull().sum().sort_values(ascending = False)"
      ],
      "execution_count": null,
      "outputs": []
    },
    {
      "cell_type": "code",
      "metadata": {
        "id": "L6D3tNHCNehm",
        "outputId": "8e4e1fac-0005-4a85-dcf1-0f83e15d6f85",
        "colab": {
          "base_uri": "https://localhost:8080/",
          "height": 156
        }
      },
      "source": [
        " final_airport.isnull().sum().sort_values(ascending = False)"
      ],
      "execution_count": 195,
      "outputs": [
        {
          "output_type": "execute_result",
          "data": {
            "text/plain": [
              "offsetseconds    0\n",
              "timezone         0\n",
              "longitude_deg    0\n",
              "latitude_deg     0\n",
              "iata_code        0\n",
              "iso_region       0\n",
              "iso_region       0\n",
              "dtype: int64"
            ]
          },
          "metadata": {
            "tags": []
          },
          "execution_count": 195
        }
      ]
    },
    {
      "cell_type": "code",
      "metadata": {
        "id": "1KD4DLHcNkWj",
        "outputId": "5863f2e0-7c33-4739-93a4-7e16223c8161",
        "colab": {
          "base_uri": "https://localhost:8080/",
          "height": 415
        }
      },
      "source": [
        "final_airport"
      ],
      "execution_count": 196,
      "outputs": [
        {
          "output_type": "execute_result",
          "data": {
            "text/html": [
              "<div>\n",
              "<style scoped>\n",
              "    .dataframe tbody tr th:only-of-type {\n",
              "        vertical-align: middle;\n",
              "    }\n",
              "\n",
              "    .dataframe tbody tr th {\n",
              "        vertical-align: top;\n",
              "    }\n",
              "\n",
              "    .dataframe thead th {\n",
              "        text-align: right;\n",
              "    }\n",
              "</style>\n",
              "<table border=\"1\" class=\"dataframe\">\n",
              "  <thead>\n",
              "    <tr style=\"text-align: right;\">\n",
              "      <th></th>\n",
              "      <th>iso_region</th>\n",
              "      <th>iso_region</th>\n",
              "      <th>iata_code</th>\n",
              "      <th>latitude_deg</th>\n",
              "      <th>longitude_deg</th>\n",
              "      <th>timezone</th>\n",
              "      <th>offsetseconds</th>\n",
              "    </tr>\n",
              "  </thead>\n",
              "  <tbody>\n",
              "    <tr>\n",
              "      <th>224</th>\n",
              "      <td>MH-UTI</td>\n",
              "      <td>MH-UTI</td>\n",
              "      <td>UTK</td>\n",
              "      <td>11.222000</td>\n",
              "      <td>169.852005</td>\n",
              "      <td>Pacific/Majuro</td>\n",
              "      <td>43200.0</td>\n",
              "    </tr>\n",
              "    <tr>\n",
              "      <th>442</th>\n",
              "      <td>US-FL</td>\n",
              "      <td>US-FL</td>\n",
              "      <td>OCA</td>\n",
              "      <td>25.325399</td>\n",
              "      <td>-80.274803</td>\n",
              "      <td>America/New_York</td>\n",
              "      <td>72000.0</td>\n",
              "    </tr>\n",
              "    <tr>\n",
              "      <th>599</th>\n",
              "      <td>US-AK</td>\n",
              "      <td>US-AK</td>\n",
              "      <td>PQS</td>\n",
              "      <td>61.934601</td>\n",
              "      <td>-162.899994</td>\n",
              "      <td>America/Nome</td>\n",
              "      <td>57600.0</td>\n",
              "    </tr>\n",
              "    <tr>\n",
              "      <th>678</th>\n",
              "      <td>US-CO</td>\n",
              "      <td>US-CO</td>\n",
              "      <td>CSE</td>\n",
              "      <td>38.851918</td>\n",
              "      <td>-106.928341</td>\n",
              "      <td>America/Denver</td>\n",
              "      <td>64800.0</td>\n",
              "    </tr>\n",
              "    <tr>\n",
              "      <th>1095</th>\n",
              "      <td>US-TX</td>\n",
              "      <td>US-TX</td>\n",
              "      <td>JCY</td>\n",
              "      <td>30.251801</td>\n",
              "      <td>-98.622498</td>\n",
              "      <td>America/Chicago</td>\n",
              "      <td>68400.0</td>\n",
              "    </tr>\n",
              "    <tr>\n",
              "      <th>...</th>\n",
              "      <td>...</td>\n",
              "      <td>...</td>\n",
              "      <td>...</td>\n",
              "      <td>...</td>\n",
              "      <td>...</td>\n",
              "      <td>...</td>\n",
              "      <td>...</td>\n",
              "    </tr>\n",
              "    <tr>\n",
              "      <th>57954</th>\n",
              "      <td>CN-21</td>\n",
              "      <td>CN-21</td>\n",
              "      <td>DLC</td>\n",
              "      <td>38.965698</td>\n",
              "      <td>121.539001</td>\n",
              "      <td>Asia/Shanghai</td>\n",
              "      <td>28800.0</td>\n",
              "    </tr>\n",
              "    <tr>\n",
              "      <th>57955</th>\n",
              "      <td>CN-22</td>\n",
              "      <td>CN-22</td>\n",
              "      <td>TNH</td>\n",
              "      <td>42.253889</td>\n",
              "      <td>125.703333</td>\n",
              "      <td>Asia/Shanghai</td>\n",
              "      <td>28800.0</td>\n",
              "    </tr>\n",
              "    <tr>\n",
              "      <th>57956</th>\n",
              "      <td>CN-21</td>\n",
              "      <td>CN-21</td>\n",
              "      <td>SHE</td>\n",
              "      <td>41.639801</td>\n",
              "      <td>123.483002</td>\n",
              "      <td>Asia/Shanghai</td>\n",
              "      <td>28800.0</td>\n",
              "    </tr>\n",
              "    <tr>\n",
              "      <th>57957</th>\n",
              "      <td>CN-22</td>\n",
              "      <td>CN-22</td>\n",
              "      <td>YNJ</td>\n",
              "      <td>42.882801</td>\n",
              "      <td>129.451004</td>\n",
              "      <td>Asia/Shanghai</td>\n",
              "      <td>28800.0</td>\n",
              "    </tr>\n",
              "    <tr>\n",
              "      <th>57958</th>\n",
              "      <td>CN-21</td>\n",
              "      <td>CN-21</td>\n",
              "      <td>YKH</td>\n",
              "      <td>40.542524</td>\n",
              "      <td>122.358600</td>\n",
              "      <td>Asia/Shanghai</td>\n",
              "      <td>28800.0</td>\n",
              "    </tr>\n",
              "  </tbody>\n",
              "</table>\n",
              "<p>9076 rows × 7 columns</p>\n",
              "</div>"
            ],
            "text/plain": [
              "      iso_region iso_region  ...          timezone  offsetseconds\n",
              "224       MH-UTI     MH-UTI  ...    Pacific/Majuro        43200.0\n",
              "442        US-FL      US-FL  ...  America/New_York        72000.0\n",
              "599        US-AK      US-AK  ...      America/Nome        57600.0\n",
              "678        US-CO      US-CO  ...    America/Denver        64800.0\n",
              "1095       US-TX      US-TX  ...   America/Chicago        68400.0\n",
              "...          ...        ...  ...               ...            ...\n",
              "57954      CN-21      CN-21  ...     Asia/Shanghai        28800.0\n",
              "57955      CN-22      CN-22  ...     Asia/Shanghai        28800.0\n",
              "57956      CN-21      CN-21  ...     Asia/Shanghai        28800.0\n",
              "57957      CN-22      CN-22  ...     Asia/Shanghai        28800.0\n",
              "57958      CN-21      CN-21  ...     Asia/Shanghai        28800.0\n",
              "\n",
              "[9076 rows x 7 columns]"
            ]
          },
          "metadata": {
            "tags": []
          },
          "execution_count": 196
        }
      ]
    },
    {
      "cell_type": "code",
      "metadata": {
        "id": "bAun5kyfPF09"
      },
      "source": [
        "final_airport.to_excel('output1.xlsx')  "
      ],
      "execution_count": 197,
      "outputs": []
    },
    {
      "cell_type": "code",
      "metadata": {
        "id": "AvzUvoqCOIyi"
      },
      "source": [
        "def open_pickle():\n",
        "    savename = 'airporttimzone'\n",
        "    try:\n",
        "        with open(savename + '.pkl', 'rb') as f:\n",
        "            holder = pickle.load(f)\n",
        "    except FileNotFoundError:\n",
        "        print('Cannot find it!')\n",
        "\n",
        "    framed =  pd.DataFrame.from_dict(holder)\n",
        "\n",
        "    writer = ExcelWriter(savename + '.xlsx', engine='xlsxwriter')\n",
        "    framed.to_excel(writer)\n",
        "    writer.save()\n",
        "\n",
        "    return(framed)\n",
        "\n",
        "a= open_pickle()"
      ],
      "execution_count": null,
      "outputs": []
    },
    {
      "cell_type": "code",
      "metadata": {
        "id": "1utE0gKHIynQ"
      },
      "source": [
        "dt = datetime.datetime.utcnow()"
      ],
      "execution_count": null,
      "outputs": []
    },
    {
      "cell_type": "code",
      "metadata": {
        "id": "2kX-P3yII06G"
      },
      "source": [
        "dt"
      ],
      "execution_count": null,
      "outputs": []
    },
    {
      "cell_type": "code",
      "metadata": {
        "id": "S-FjXdk9I9Z9"
      },
      "source": [
        "timezone_str='Asia/Kolkata'\n",
        "timezone = pytz.timezone(timezone_str)\n",
        "test=(timezone.utcoffset(dt))\n",
        "test.seconds"
      ],
      "execution_count": null,
      "outputs": []
    },
    {
      "cell_type": "code",
      "metadata": {
        "id": "zF1BQ7Apb83e"
      },
      "source": [
        "import datetime\n",
        "import timezonefinder, pytz\n",
        "\n",
        "tf = timezonefinder.TimezoneFinder()\n",
        "\n",
        "foo(df)\n",
        "\n",
        "# From the lat/long, get the tz-database-style time zone name (e.g. 'America/Vancouver') or None\n",
        "timezone_str = tf.certain_timezone_at(lat=12.9141, lng=74.8560)\n",
        "\n",
        "if timezone_str is None:\n",
        "    print (\"Could not determine the time zone\")\n",
        "else:\n",
        "    # Display the current time in that time zone\n",
        "    timezone = pytz.timezone(timezone_str)\n",
        "    dt = datetime.datetime.utcnow()\n",
        "    print (\"The time in %s is %s\" % (timezone_str, dt + timezone.utcoffset(dt)))\n",
        "\n",
        "\n",
        "\n"
      ],
      "execution_count": null,
      "outputs": []
    },
    {
      "cell_type": "code",
      "metadata": {
        "id": "TWBUAkAWe3mp"
      },
      "source": [
        "loc_dt = eastern.localize(datetime(2002, 10, 27, 6, 0, 0))"
      ],
      "execution_count": null,
      "outputs": []
    },
    {
      "cell_type": "code",
      "metadata": {
        "id": "qOhDkaUWewAU"
      },
      "source": [
        "ams_dt = loc_dt.astimezone(amsterdam)"
      ],
      "execution_count": null,
      "outputs": []
    },
    {
      "cell_type": "markdown",
      "metadata": {
        "id": "IXqyDC6Wev5L"
      },
      "source": [
        ""
      ]
    },
    {
      "cell_type": "code",
      "metadata": {
        "id": "tXQvXjP_ct_P"
      },
      "source": [
        "dt = datetime.datetime.now()\n",
        "timezone.utcoffset(dt)"
      ],
      "execution_count": null,
      "outputs": []
    }
  ]
}