{
  "nbformat": 4,
  "nbformat_minor": 0,
  "metadata": {
    "kernelspec": {
      "display_name": "Python 3",
      "language": "python",
      "name": "python3"
    },
    "language_info": {
      "codemirror_mode": {
        "name": "ipython",
        "version": 3
      },
      "file_extension": ".py",
      "mimetype": "text/x-python",
      "name": "python",
      "nbconvert_exporter": "python",
      "pygments_lexer": "ipython3",
      "version": "3.7.7"
    },
    "colab": {
      "name": "test.ipynb",
      "provenance": [],
      "collapsed_sections": [],
      "include_colab_link": true
    }
  },
  "cells": [
    {
      "cell_type": "markdown",
      "metadata": {
        "id": "view-in-github",
        "colab_type": "text"
      },
      "source": [
        "<a href=\"https://colab.research.google.com/github/rizwannitk/newchrun/blob/main/test.ipynb\" target=\"_parent\"><img src=\"https://colab.research.google.com/assets/colab-badge.svg\" alt=\"Open In Colab\"/></a>"
      ]
    },
    {
      "cell_type": "code",
      "metadata": {
        "id": "JE3Q_lfcq2ti"
      },
      "source": [
        "print(\"Chrun\")"
      ],
      "execution_count": null,
      "outputs": []
    },
    {
      "cell_type": "code",
      "metadata": {
        "id": "WrNm8U-QvykP"
      },
      "source": [
        "from google.colab import drive\n",
        "drive.mount('/content/drive')"
      ],
      "execution_count": null,
      "outputs": []
    },
    {
      "cell_type": "code",
      "metadata": {
        "id": "HJNR6oWqDsU_"
      },
      "source": [
        "import seaborn as sns"
      ],
      "execution_count": null,
      "outputs": []
    },
    {
      "cell_type": "code",
      "metadata": {
        "id": "cyUeZoGG6OVq"
      },
      "source": [
        "print(sns.get_dataset_names())"
      ],
      "execution_count": null,
      "outputs": []
    },
    {
      "cell_type": "code",
      "metadata": {
        "id": "j9vJGhq_QPZm"
      },
      "source": [
        "df=sns.load_dataset('planets')"
      ],
      "execution_count": null,
      "outputs": []
    },
    {
      "cell_type": "code",
      "metadata": {
        "id": "GpHSxmpKHDPA"
      },
      "source": [
        "pip install dtale"
      ],
      "execution_count": null,
      "outputs": []
    },
    {
      "cell_type": "code",
      "metadata": {
        "id": "GtbY7n0JaP9a"
      },
      "source": [
        ""
      ],
      "execution_count": null,
      "outputs": []
    },
    {
      "cell_type": "code",
      "metadata": {
        "id": "JGJIG_xMQibk"
      },
      "source": [
        "import dtale"
      ],
      "execution_count": null,
      "outputs": []
    },
    {
      "cell_type": "code",
      "metadata": {
        "id": "k6tkxqXURKgO"
      },
      "source": [
        "import dtale.app as dtale_app\n",
        "\n",
        "dtale_app.USE_COLAB = True\n"
      ],
      "execution_count": null,
      "outputs": []
    },
    {
      "cell_type": "code",
      "metadata": {
        "id": "j_Kv2iLeHYv2"
      },
      "source": [
        "dtale.show(df, ignore_duplicate=True)"
      ],
      "execution_count": null,
      "outputs": []
    },
    {
      "cell_type": "code",
      "metadata": {
        "id": "ktzFUPeLYuwb"
      },
      "source": [
        "pip install sweetviz"
      ],
      "execution_count": null,
      "outputs": []
    },
    {
      "cell_type": "code",
      "metadata": {
        "id": "fxmJD-aBY0x4"
      },
      "source": [
        "import sweetviz"
      ],
      "execution_count": null,
      "outputs": []
    },
    {
      "cell_type": "code",
      "metadata": {
        "id": "qH8dUyyZY2yp"
      },
      "source": [
        "my_report = sweetviz.analyze(df)"
      ],
      "execution_count": null,
      "outputs": []
    },
    {
      "cell_type": "code",
      "metadata": {
        "id": "h1zA8fkxZD8j"
      },
      "source": [
        "my_report.show_html('Report.html')"
      ],
      "execution_count": null,
      "outputs": []
    },
    {
      "cell_type": "code",
      "metadata": {
        "id": "DoVNlJuecEWL"
      },
      "source": [
        "!pip install pandas-profiling==2.7.1"
      ],
      "execution_count": null,
      "outputs": []
    },
    {
      "cell_type": "code",
      "metadata": {
        "id": "pyO1IR4Dd85h"
      },
      "source": [
        "import pandas_profiling\n",
        "import numpy as np\n",
        "import pandas as pd"
      ],
      "execution_count": null,
      "outputs": []
    },
    {
      "cell_type": "code",
      "metadata": {
        "id": "SVviARoabA07"
      },
      "source": [
        "from pandas_profiling import ProfileReport"
      ],
      "execution_count": null,
      "outputs": []
    },
    {
      "cell_type": "code",
      "metadata": {
        "id": "LlVnYKqpgPIw"
      },
      "source": [
        "type(df)"
      ],
      "execution_count": null,
      "outputs": []
    },
    {
      "cell_type": "code",
      "metadata": {
        "id": "wz28TrxggTdQ"
      },
      "source": [
        "profile =pandas_profiling.ProfileReport(df)"
      ],
      "execution_count": null,
      "outputs": []
    },
    {
      "cell_type": "code",
      "metadata": {
        "id": "vnJTRbRNqUXC"
      },
      "source": [
        "profile.to_widgets()"
      ],
      "execution_count": null,
      "outputs": []
    },
    {
      "cell_type": "code",
      "metadata": {
        "id": "J6XXWd_sao6V"
      },
      "source": [
        "pip install geonames"
      ],
      "execution_count": null,
      "outputs": []
    },
    {
      "cell_type": "code",
      "metadata": {
        "id": "lNMM_VCsbyqH"
      },
      "source": [
        "pip install tzwhere"
      ],
      "execution_count": null,
      "outputs": []
    },
    {
      "cell_type": "code",
      "metadata": {
        "id": "kARn5EIJbvBm"
      },
      "source": [
        "\n",
        "\n",
        "tzwhere = tzwhere.tzwhere()\n",
        "timezone_str = tzwhere.tzNameAt(37.3880961, -5.9823299) # Seville coordinates\n",
        "timezone_str\n",
        "#> Europe/Madrid\n",
        "\n"
      ],
      "execution_count": null,
      "outputs": []
    },
    {
      "cell_type": "code",
      "metadata": {
        "id": "Hpq40YRtglFd",
        "outputId": "7cdb154d-faa2-4657-dea7-d0a9b51194b8",
        "colab": {
          "base_uri": "https://localhost:8080/",
          "height": 52
        }
      },
      "source": [
        "pip install timezonefinder"
      ],
      "execution_count": 63,
      "outputs": [
        {
          "output_type": "stream",
          "text": [
            "Requirement already satisfied: timezonefinder in /usr/local/lib/python3.6/dist-packages (4.4.1)\n",
            "Requirement already satisfied: numpy>=1.16 in /usr/local/lib/python3.6/dist-packages (from timezonefinder) (1.18.5)\n"
          ],
          "name": "stdout"
        }
      ]
    },
    {
      "cell_type": "code",
      "metadata": {
        "id": "5puKlD-5gyCD"
      },
      "source": [
        "import numpy as np\n",
        "import pandas as pd\n",
        "import io\n",
        "import requests"
      ],
      "execution_count": 68,
      "outputs": []
    },
    {
      "cell_type": "code",
      "metadata": {
        "id": "Velqwe2fx81f"
      },
      "source": [
        "url=\"https://ourairports.com/data/airports.csv\""
      ],
      "execution_count": 70,
      "outputs": []
    },
    {
      "cell_type": "code",
      "metadata": {
        "id": "BWDxQXFoyGVg"
      },
      "source": [
        "df=pd.read_csv(url)"
      ],
      "execution_count": 90,
      "outputs": []
    },
    {
      "cell_type": "code",
      "metadata": {
        "id": "imhv91f-0uli",
        "outputId": "c2e6f2a0-90e8-4ddf-e5e1-68817df7ad6f",
        "colab": {
          "base_uri": "https://localhost:8080/",
          "height": 451
        }
      },
      "source": [
        "df.info()"
      ],
      "execution_count": 91,
      "outputs": [
        {
          "output_type": "stream",
          "text": [
            "<class 'pandas.core.frame.DataFrame'>\n",
            "RangeIndex: 57963 entries, 0 to 57962\n",
            "Data columns (total 18 columns):\n",
            " #   Column             Non-Null Count  Dtype  \n",
            "---  ------             --------------  -----  \n",
            " 0   id                 57963 non-null  int64  \n",
            " 1   ident              57963 non-null  object \n",
            " 2   type               57963 non-null  object \n",
            " 3   name               57963 non-null  object \n",
            " 4   latitude_deg       57963 non-null  float64\n",
            " 5   longitude_deg      57963 non-null  float64\n",
            " 6   elevation_ft       49860 non-null  float64\n",
            " 7   continent          29191 non-null  object \n",
            " 8   iso_country        57717 non-null  object \n",
            " 9   iso_region         57963 non-null  object \n",
            " 10  municipality       52065 non-null  object \n",
            " 11  scheduled_service  57963 non-null  object \n",
            " 12  gps_code           41691 non-null  object \n",
            " 13  iata_code          9241 non-null   object \n",
            " 14  local_code         30350 non-null  object \n",
            " 15  home_link          3142 non-null   object \n",
            " 16  wikipedia_link     10069 non-null  object \n",
            " 17  keywords           10766 non-null  object \n",
            "dtypes: float64(3), int64(1), object(14)\n",
            "memory usage: 8.0+ MB\n"
          ],
          "name": "stdout"
        }
      ]
    },
    {
      "cell_type": "code",
      "metadata": {
        "id": "bT5cTSRsysjF"
      },
      "source": [
        "df.head()\n",
        "df['iata_code'].astype(str).map(len)\n",
        "is_valid =  df['iata_code'].astype(str).map(len)==3\n",
        "valid_airport=df[is_valid]"
      ],
      "execution_count": 93,
      "outputs": []
    },
    {
      "cell_type": "code",
      "metadata": {
        "id": "_Lsnn8ql0dq1"
      },
      "source": [
        "valid_airport.info()"
      ],
      "execution_count": null,
      "outputs": []
    },
    {
      "cell_type": "code",
      "metadata": {
        "id": "j-7AbehI1BQS"
      },
      "source": [
        "valid_airport['iata_code'].value_counts()\n",
        "valid_airport.dtypes\n",
        "valid_airport_new=valid_airport[['iso_region','iso_region','iata_code','latitude_deg','longitude_deg']]"
      ],
      "execution_count": 113,
      "outputs": []
    },
    {
      "cell_type": "code",
      "metadata": {
        "id": "fTRVQy-w3QDe"
      },
      "source": [
        "valid_airport_new=valid_airport_new.drop_duplicates()"
      ],
      "execution_count": 115,
      "outputs": []
    },
    {
      "cell_type": "code",
      "metadata": {
        "id": "_9URw98V25GH",
        "outputId": "1b9ac72b-5247-4f1e-efb8-17dabd0aa62a",
        "colab": {
          "base_uri": "https://localhost:8080/",
          "height": 110
        }
      },
      "source": [
        "valid_airport_new['iata_code'].value_counts()\n",
        "\n",
        "valid_airport_new[valid_airport_new['iata_code']=='KMM']\n",
        "\n"
      ],
      "execution_count": 119,
      "outputs": [
        {
          "output_type": "execute_result",
          "data": {
            "text/html": [
              "<div>\n",
              "<style scoped>\n",
              "    .dataframe tbody tr th:only-of-type {\n",
              "        vertical-align: middle;\n",
              "    }\n",
              "\n",
              "    .dataframe tbody tr th {\n",
              "        vertical-align: top;\n",
              "    }\n",
              "\n",
              "    .dataframe thead th {\n",
              "        text-align: right;\n",
              "    }\n",
              "</style>\n",
              "<table border=\"1\" class=\"dataframe\">\n",
              "  <thead>\n",
              "    <tr style=\"text-align: right;\">\n",
              "      <th></th>\n",
              "      <th>iso_region</th>\n",
              "      <th>iso_region</th>\n",
              "      <th>iata_code</th>\n",
              "      <th>latitude_deg</th>\n",
              "      <th>longitude_deg</th>\n",
              "    </tr>\n",
              "  </thead>\n",
              "  <tbody>\n",
              "    <tr>\n",
              "      <th>24947</th>\n",
              "      <td>ID-PA</td>\n",
              "      <td>ID-PA</td>\n",
              "      <td>KMM</td>\n",
              "      <td>-3.66667</td>\n",
              "      <td>136.166672</td>\n",
              "    </tr>\n",
              "    <tr>\n",
              "      <th>29678</th>\n",
              "      <td>ID-PA</td>\n",
              "      <td>ID-PA</td>\n",
              "      <td>KMM</td>\n",
              "      <td>-7.97820</td>\n",
              "      <td>138.852005</td>\n",
              "    </tr>\n",
              "  </tbody>\n",
              "</table>\n",
              "</div>"
            ],
            "text/plain": [
              "      iso_region iso_region iata_code  latitude_deg  longitude_deg\n",
              "24947      ID-PA      ID-PA       KMM      -3.66667     136.166672\n",
              "29678      ID-PA      ID-PA       KMM      -7.97820     138.852005"
            ]
          },
          "metadata": {
            "tags": []
          },
          "execution_count": 119
        }
      ]
    },
    {
      "cell_type": "code",
      "metadata": {
        "id": "VvO6iE3k4lOO"
      },
      "source": [
        "valid_airport_noduplicate = valid_airport_new.drop_duplicates(subset=['iata_code'])"
      ],
      "execution_count": 135,
      "outputs": []
    },
    {
      "cell_type": "code",
      "metadata": {
        "id": "Xxvyk5Ot6tU-"
      },
      "source": [
        ""
      ],
      "execution_count": null,
      "outputs": []
    },
    {
      "cell_type": "code",
      "metadata": {
        "id": "8TCQo2Y45kZO"
      },
      "source": [
        "valid_airport_noduplicate['iata_code'].value_counts()>1"
      ],
      "execution_count": null,
      "outputs": []
    },
    {
      "cell_type": "code",
      "metadata": {
        "id": "lVwU1zZc6t3Q",
        "outputId": "bc15026d-3b85-4c95-cca3-1c05b0b8711c",
        "colab": {
          "base_uri": "https://localhost:8080/",
          "height": 121
        }
      },
      "source": [
        "valid_airport_noduplicate.dtypes"
      ],
      "execution_count": 136,
      "outputs": [
        {
          "output_type": "execute_result",
          "data": {
            "text/plain": [
              "iso_region        object\n",
              "iso_region        object\n",
              "iata_code         object\n",
              "latitude_deg     float64\n",
              "longitude_deg    float64\n",
              "dtype: object"
            ]
          },
          "metadata": {
            "tags": []
          },
          "execution_count": 136
        }
      ]
    },
    {
      "cell_type": "code",
      "metadata": {
        "id": "eTmPyhzI7g8T",
        "outputId": "de4f9993-1947-4bed-a101-27d0a90f076f",
        "colab": {
          "base_uri": "https://localhost:8080/",
          "height": 225
        }
      },
      "source": [
        "valid_airport_noduplicate[\"timezone\"] = np.nan\n",
        "valid_airport_noduplicate[\"offsetseconds\"]=np.nan"
      ],
      "execution_count": 172,
      "outputs": [
        {
          "output_type": "stream",
          "text": [
            "/usr/local/lib/python3.6/dist-packages/ipykernel_launcher.py:1: SettingWithCopyWarning: \n",
            "A value is trying to be set on a copy of a slice from a DataFrame.\n",
            "Try using .loc[row_indexer,col_indexer] = value instead\n",
            "\n",
            "See the caveats in the documentation: https://pandas.pydata.org/pandas-docs/stable/user_guide/indexing.html#returning-a-view-versus-a-copy\n",
            "  \"\"\"Entry point for launching an IPython kernel.\n",
            "/usr/local/lib/python3.6/dist-packages/ipykernel_launcher.py:2: SettingWithCopyWarning: \n",
            "A value is trying to be set on a copy of a slice from a DataFrame.\n",
            "Try using .loc[row_indexer,col_indexer] = value instead\n",
            "\n",
            "See the caveats in the documentation: https://pandas.pydata.org/pandas-docs/stable/user_guide/indexing.html#returning-a-view-versus-a-copy\n",
            "  \n"
          ],
          "name": "stderr"
        }
      ]
    },
    {
      "cell_type": "code",
      "metadata": {
        "id": "lCmDIdqqg7B7"
      },
      "source": [
        "array = np.array([(12.9141,74.8560), (49.2827,-123.1207)])"
      ],
      "execution_count": 64,
      "outputs": []
    },
    {
      "cell_type": "code",
      "metadata": {
        "id": "tD7ooxVEhrXf"
      },
      "source": [
        "type(array)"
      ],
      "execution_count": null,
      "outputs": []
    },
    {
      "cell_type": "code",
      "metadata": {
        "id": "3bVurkIHh5Wj"
      },
      "source": [
        "df = pd.DataFrame(array,columns = ['LAT', 'LONG'])"
      ],
      "execution_count": 65,
      "outputs": []
    },
    {
      "cell_type": "code",
      "metadata": {
        "id": "B7jQNTbAh73d"
      },
      "source": [
        "type(df)"
      ],
      "execution_count": null,
      "outputs": []
    },
    {
      "cell_type": "code",
      "metadata": {
        "id": "VbBomBQNi5rX"
      },
      "source": [
        "def foo(df1):\n",
        "    tf = timezonefinder.TimezoneFinder()\n",
        "    for index, row in df1.iterrows():\n",
        "                                     #print(row['latitude_deg'], row['longitude_deg'])\n",
        "                                     timezone_str = tf.certain_timezone_at(lat=row['latitude_deg'], lng=row['longitude_deg'])\n",
        "                                     if timezone_str is None:\n",
        "                                     #                        print (\"Could not determine the time zone\")\n",
        "                                                              df1.at[index,'timezone'] = np.nan\n",
        "                                     else:\n",
        "                                          df1.at[index,'timezone'] = timezone_str\n",
        "                                          try :\n",
        "                                                timezone = pytz.timezone(timezone_str)\n",
        "                                                df1.at[index,'offsetseconds'] =timezone.utcoffset(dt).seconds\n",
        "                                          except :\n",
        "                                                  df1.at[index,'offsetseconds'] = np.nan\n",
        "                                          \n",
        "                                         # Display the current time in that time zone\n",
        "                                         #timezone = pytz.timezone(timezone_str)\n",
        "                                         #dt = datetime.datetime.utcnow()\n",
        "                                         #print (\"The time in %s is %s\" % (timezone_str, dt + timezone.utcoffset(dt)))\n",
        "    return(df1)"
      ],
      "execution_count": 177,
      "outputs": []
    },
    {
      "cell_type": "code",
      "metadata": {
        "id": "X-gfqd4Ei-W1",
        "outputId": "5ee58cf3-4a82-4e7d-8044-a08b7b4da260",
        "colab": {
          "base_uri": "https://localhost:8080/",
          "height": 121
        }
      },
      "source": [
        "valid_airport_append=foo(valid_airport_noduplicate)"
      ],
      "execution_count": 178,
      "outputs": [
        {
          "output_type": "stream",
          "text": [
            "/usr/local/lib/python3.6/dist-packages/pandas/core/indexing.py:1765: SettingWithCopyWarning: \n",
            "A value is trying to be set on a copy of a slice from a DataFrame.\n",
            "Try using .loc[row_indexer,col_indexer] = value instead\n",
            "\n",
            "See the caveats in the documentation: https://pandas.pydata.org/pandas-docs/stable/user_guide/indexing.html#returning-a-view-versus-a-copy\n",
            "  isetter(loc, value)\n"
          ],
          "name": "stderr"
        }
      ]
    },
    {
      "cell_type": "code",
      "metadata": {
        "id": "PLV8DLsb7eDu",
        "outputId": "364516b8-19a3-4918-f6bb-a3950e00a0a0",
        "colab": {
          "base_uri": "https://localhost:8080/",
          "height": 79
        }
      },
      "source": [
        "valid_airport_append[valid_airport_append['iata_code']=='IXE']"
      ],
      "execution_count": 179,
      "outputs": [
        {
          "output_type": "execute_result",
          "data": {
            "text/html": [
              "<div>\n",
              "<style scoped>\n",
              "    .dataframe tbody tr th:only-of-type {\n",
              "        vertical-align: middle;\n",
              "    }\n",
              "\n",
              "    .dataframe tbody tr th {\n",
              "        vertical-align: top;\n",
              "    }\n",
              "\n",
              "    .dataframe thead th {\n",
              "        text-align: right;\n",
              "    }\n",
              "</style>\n",
              "<table border=\"1\" class=\"dataframe\">\n",
              "  <thead>\n",
              "    <tr style=\"text-align: right;\">\n",
              "      <th></th>\n",
              "      <th>iso_region</th>\n",
              "      <th>iso_region</th>\n",
              "      <th>iata_code</th>\n",
              "      <th>latitude_deg</th>\n",
              "      <th>longitude_deg</th>\n",
              "      <th>timezone</th>\n",
              "      <th>offsetseconds</th>\n",
              "    </tr>\n",
              "  </thead>\n",
              "  <tbody>\n",
              "    <tr>\n",
              "      <th>54136</th>\n",
              "      <td>IN-KA</td>\n",
              "      <td>IN-KA</td>\n",
              "      <td>IXE</td>\n",
              "      <td>12.9613</td>\n",
              "      <td>74.890099</td>\n",
              "      <td>Asia/Kolkata</td>\n",
              "      <td>19800.0</td>\n",
              "    </tr>\n",
              "  </tbody>\n",
              "</table>\n",
              "</div>"
            ],
            "text/plain": [
              "      iso_region iso_region  ...      timezone  offsetseconds\n",
              "54136      IN-KA      IN-KA  ...  Asia/Kolkata        19800.0\n",
              "\n",
              "[1 rows x 7 columns]"
            ]
          },
          "metadata": {
            "tags": []
          },
          "execution_count": 179
        }
      ]
    },
    {
      "cell_type": "code",
      "metadata": {
        "id": "UH5nexMJMBhU",
        "outputId": "b2deaa7a-4959-47e0-e261-fcbec39dc03d",
        "colab": {
          "base_uri": "https://localhost:8080/",
          "height": 156
        }
      },
      "source": [
        "valid_airport_append.isnull().sum().sort_values(ascending = False)"
      ],
      "execution_count": 180,
      "outputs": [
        {
          "output_type": "execute_result",
          "data": {
            "text/plain": [
              "offsetseconds    45\n",
              "timezone          2\n",
              "iata_code         1\n",
              "longitude_deg     0\n",
              "latitude_deg      0\n",
              "iso_region        0\n",
              "iso_region        0\n",
              "dtype: int64"
            ]
          },
          "metadata": {
            "tags": []
          },
          "execution_count": 180
        }
      ]
    },
    {
      "cell_type": "code",
      "metadata": {
        "id": "1utE0gKHIynQ"
      },
      "source": [
        "dt = datetime.datetime.utcnow()"
      ],
      "execution_count": 158,
      "outputs": []
    },
    {
      "cell_type": "code",
      "metadata": {
        "id": "2kX-P3yII06G",
        "outputId": "e6c9ca58-e994-4f3f-b28a-7bdade18ffe8",
        "colab": {
          "base_uri": "https://localhost:8080/",
          "height": 35
        }
      },
      "source": [
        "dt"
      ],
      "execution_count": 159,
      "outputs": [
        {
          "output_type": "execute_result",
          "data": {
            "text/plain": [
              "datetime.datetime(2020, 10, 6, 18, 18, 53, 892398)"
            ]
          },
          "metadata": {
            "tags": []
          },
          "execution_count": 159
        }
      ]
    },
    {
      "cell_type": "code",
      "metadata": {
        "id": "S-FjXdk9I9Z9",
        "outputId": "55a67556-10f4-495c-e42e-7cdbc3b8c5ad",
        "colab": {
          "base_uri": "https://localhost:8080/",
          "height": 35
        }
      },
      "source": [
        "timezone_str='Asia/Kolkata'\n",
        "timezone = pytz.timezone(timezone_str)\n",
        "test=(timezone.utcoffset(dt))\n",
        "test.seconds"
      ],
      "execution_count": 171,
      "outputs": [
        {
          "output_type": "execute_result",
          "data": {
            "text/plain": [
              "19800"
            ]
          },
          "metadata": {
            "tags": []
          },
          "execution_count": 171
        }
      ]
    },
    {
      "cell_type": "code",
      "metadata": {
        "id": "zF1BQ7Apb83e"
      },
      "source": [
        "import datetime\n",
        "import timezonefinder, pytz\n",
        "\n",
        "tf = timezonefinder.TimezoneFinder()\n",
        "\n",
        "foo(df)\n",
        "\n",
        "# From the lat/long, get the tz-database-style time zone name (e.g. 'America/Vancouver') or None\n",
        "timezone_str = tf.certain_timezone_at(lat=12.9141, lng=74.8560)\n",
        "\n",
        "if timezone_str is None:\n",
        "    print (\"Could not determine the time zone\")\n",
        "else:\n",
        "    # Display the current time in that time zone\n",
        "    timezone = pytz.timezone(timezone_str)\n",
        "    dt = datetime.datetime.utcnow()\n",
        "    print (\"The time in %s is %s\" % (timezone_str, dt + timezone.utcoffset(dt)))\n",
        "\n",
        "\n",
        "\n"
      ],
      "execution_count": null,
      "outputs": []
    },
    {
      "cell_type": "code",
      "metadata": {
        "id": "TWBUAkAWe3mp"
      },
      "source": [
        "loc_dt = eastern.localize(datetime(2002, 10, 27, 6, 0, 0))"
      ],
      "execution_count": null,
      "outputs": []
    },
    {
      "cell_type": "code",
      "metadata": {
        "id": "qOhDkaUWewAU"
      },
      "source": [
        "ams_dt = loc_dt.astimezone(amsterdam)"
      ],
      "execution_count": null,
      "outputs": []
    },
    {
      "cell_type": "markdown",
      "metadata": {
        "id": "IXqyDC6Wev5L"
      },
      "source": [
        ""
      ]
    },
    {
      "cell_type": "code",
      "metadata": {
        "id": "tXQvXjP_ct_P"
      },
      "source": [
        "dt = datetime.datetime.now()\n",
        "timezone.utcoffset(dt)"
      ],
      "execution_count": null,
      "outputs": []
    }
  ]
}